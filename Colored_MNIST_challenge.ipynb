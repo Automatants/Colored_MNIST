{
  "cells": [
    {
      "cell_type": "markdown",
      "metadata": {},
      "source": [
        "MNIST Challenge 2024-10-19\n",
        "You have three test datasets corresponding to three difficulties, easy, medium and hard. The objective of this challenge is to learn how to make an effective model and intelligent data processing to classify accuretaly MNIST images even if they are degraded. The higher the difficulty, the more degraded the test images are. "
      ]
    },
    {
      "cell_type": "markdown",
      "metadata": {
        "id": "lHMcZCq9wM12"
      },
      "source": [
        "We download two libraries that aren't automatically on colab's environment :"
      ]
    },
    {
      "cell_type": "code",
      "execution_count": 4,
      "metadata": {
        "colab": {
          "base_uri": "https://localhost:8080/"
        },
        "id": "OLDntfLkwo7R",
        "outputId": "cc90b21c-3602-478f-bda7-8a9d7a299898"
      },
      "outputs": [
        {
          "name": "stdout",
          "output_type": "stream",
          "text": [
            "Requirement already satisfied: gdown in /usr/local/lib/python3.10/dist-packages (5.2.0)\n",
            "Requirement already satisfied: beautifulsoup4 in /usr/local/lib/python3.10/dist-packages (from gdown) (4.12.3)\n",
            "Requirement already satisfied: filelock in /usr/local/lib/python3.10/dist-packages (from gdown) (3.16.1)\n",
            "Requirement already satisfied: requests[socks] in /usr/local/lib/python3.10/dist-packages (from gdown) (2.32.3)\n",
            "Requirement already satisfied: tqdm in /usr/local/lib/python3.10/dist-packages (from gdown) (4.66.5)\n",
            "Requirement already satisfied: soupsieve>1.2 in /usr/local/lib/python3.10/dist-packages (from beautifulsoup4->gdown) (2.6)\n",
            "Requirement already satisfied: charset-normalizer<4,>=2 in /usr/local/lib/python3.10/dist-packages (from requests[socks]->gdown) (3.4.0)\n",
            "Requirement already satisfied: idna<4,>=2.5 in /usr/local/lib/python3.10/dist-packages (from requests[socks]->gdown) (3.10)\n",
            "Requirement already satisfied: urllib3<3,>=1.21.1 in /usr/local/lib/python3.10/dist-packages (from requests[socks]->gdown) (2.2.3)\n",
            "Requirement already satisfied: certifi>=2017.4.17 in /usr/local/lib/python3.10/dist-packages (from requests[socks]->gdown) (2024.8.30)\n",
            "Requirement already satisfied: PySocks!=1.5.7,>=1.5.6 in /usr/local/lib/python3.10/dist-packages (from requests[socks]->gdown) (1.7.1)\n"
          ]
        }
      ],
      "source": [
        "!pip install torchinfo\n",
        "!pip install gdown"
      ]
    },
    {
      "cell_type": "markdown",
      "metadata": {
        "id": "JDLxiEFy1y7M"
      },
      "source": [
        "\n",
        "We import the libraries :"
      ]
    },
    {
      "cell_type": "code",
      "execution_count": 3,
      "metadata": {
        "id": "81SFiCGZwM14"
      },
      "outputs": [],
      "source": [
        "import torch\n",
        "import torch.nn as nn\n",
        "import torch.optim as optim\n",
        "import torchvision\n",
        "import matplotlib.pyplot as plt\n",
        "import numpy as np\n",
        "from tqdm import tqdm\n",
        "from torchinfo import summary\n",
        "from torch.utils.data import Dataset, DataLoader\n",
        "from torchvision import transforms\n",
        "import gzip\n",
        "import pickle\n"
      ]
    },
    {
      "cell_type": "markdown",
      "metadata": {
        "id": "HoGmBBFw18Ds"
      },
      "source": [
        "Here we download the datasets from Google Drive : (https://drive.google.com/drive/folders/1tgwAUkoPU1DwoUs_mTa9ZvGJ0cIhY3ob)"
      ]
    },
    {
      "cell_type": "code",
      "execution_count": 15,
      "metadata": {
        "colab": {
          "base_uri": "https://localhost:8080/"
        },
        "id": "2Ooqv2sIxFk_",
        "outputId": "0c2caf57-91df-46f1-bf62-e3406e7433f9"
      },
      "outputs": [
        {
          "name": "stdout",
          "output_type": "stream",
          "text": [
            "Downloading...\n",
            "From (original): https://drive.google.com/uc?id=1BppDIfS3QqmnAz-ZZzoJ19rwFwetaH17\n",
            "From (redirected): https://drive.google.com/uc?id=1BppDIfS3QqmnAz-ZZzoJ19rwFwetaH17&confirm=t&uuid=dd8e9411-9b9e-4084-b5d9-c84649a0f60b\n",
            "To: /content/colored_mnist_images.gz\n",
            "100% 33.0M/33.0M [00:00<00:00, 139MB/s]\n",
            "Downloading...\n",
            "From: https://drive.google.com/uc?id=1o5Xa6nmiNYgFuoGTYCRYXKKKUkV3bxJL\n",
            "To: /content/colored_mnist_targets.gz\n",
            "100% 32.6k/32.6k [00:00<00:00, 55.1MB/s]\n",
            "Downloading...\n",
            "From: https://drive.google.com/uc?id=1ojvAvkjDMruiY-q6Ev8LDDDPpOn1gcYT\n",
            "To: /content/colored_mnist_test_images_easy.gz\n",
            "100% 5.45M/5.45M [00:00<00:00, 21.0MB/s]\n",
            "Downloading...\n",
            "From (original): https://drive.google.com/uc?id=1ho4_rFWJ4MZMzyHdm_qlgStm2eGFuQDq\n",
            "From (redirected): https://drive.google.com/uc?id=1ho4_rFWJ4MZMzyHdm_qlgStm2eGFuQDq&confirm=t&uuid=dcca83fe-1dd3-4c5e-a825-4c6a4f6d0dc6\n",
            "To: /content/colored_mnist_test_images_hard.gz\n",
            "100% 129M/129M [00:03<00:00, 38.7MB/s]\n",
            "Downloading...\n",
            "From: https://drive.google.com/uc?id=1n8iIzBxaWeLRahQkKhs1dkuBfSm8INbN\n",
            "To: /content/colored_mnist_test_images_medium.gz\n",
            "100% 15.0M/15.0M [00:00<00:00, 46.6MB/s]\n"
          ]
        }
      ],
      "source": [
        "!gdown 1BppDIfS3QqmnAz-ZZzoJ19rwFwetaH17\n",
        "!gdown 1o5Xa6nmiNYgFuoGTYCRYXKKKUkV3bxJL\n",
        "!gdown 1ojvAvkjDMruiY-q6Ev8LDDDPpOn1gcYT\n",
        "!gdown 1ho4_rFWJ4MZMzyHdm_qlgStm2eGFuQDq\n",
        "!gdown 1n8iIzBxaWeLRahQkKhs1dkuBfSm8INbN"
      ]
    },
    {
      "cell_type": "markdown",
      "metadata": {
        "id": "pO3zJqDTwM16"
      },
      "source": [
        "Unzip the files :"
      ]
    },
    {
      "cell_type": "code",
      "execution_count": 16,
      "metadata": {
        "id": "25tD8ItywM16"
      },
      "outputs": [],
      "source": [
        "# Function to load data from a .gz file\n",
        "def load_from_gz(filename):\n",
        "    with gzip.open(filename, 'rb') as f:\n",
        "        data = pickle.load(f)\n",
        "    return data\n",
        "\n",
        "# Load the data\n",
        "loaded_images = load_from_gz('colored_mnist_images.gz')\n",
        "loaded_targets = load_from_gz('colored_mnist_targets.gz')\n"
      ]
    },
    {
      "cell_type": "markdown",
      "metadata": {
        "id": "qtO81sgIwM17"
      },
      "source": [
        "Create the dataset and the dataloader :"
      ]
    },
    {
      "cell_type": "code",
      "execution_count": 17,
      "metadata": {
        "id": "TDKSxE3TwM17"
      },
      "outputs": [],
      "source": [
        "\n",
        "class ColoredMNISTDataset(Dataset):\n",
        "    def __init__(self, images, targets):\n",
        "        self.images = images\n",
        "        self.targets = targets\n",
        "\n",
        "    def __len__(self):\n",
        "        return len(self.targets)\n",
        "\n",
        "    def __getitem__(self, idx):\n",
        "        image = self.images[idx]\n",
        "        target = self.targets[idx]\n",
        "        return torch.tensor(image), target\n",
        "\n",
        "# Create the dataset\n",
        "train_dataset = ColoredMNISTDataset(loaded_images, loaded_targets)\n",
        "\n",
        "# Create a DataLoader for the dataset\n",
        "train_dataloader = torch.utils.data.DataLoader(train_dataset, batch_size=64, shuffle=True)\n",
        "#You can change the batch_size"
      ]
    },
    {
      "cell_type": "markdown",
      "metadata": {
        "id": "YQxkX9xbwM17"
      },
      "source": [
        "Show some images and their labels :"
      ]
    },
    {
      "cell_type": "code",
      "execution_count": 18,
      "metadata": {
        "colab": {
          "base_uri": "https://localhost:8080/",
          "height": 473
        },
        "id": "KtTfIIZLwM17",
        "outputId": "d87286cf-2a77-4e25-9d46-9766613119d0"
      },
      "outputs": [
        {
          "data": {
            "image/png": "[encoded data removed]",
            "text/plain": [
              "<Figure size 640x480 with 1 Axes>"
            ]
          },
          "metadata": {},
          "output_type": "display_data"
        },
        {
          "name": "stdout",
          "output_type": "stream",
          "text": [
            "    6     2     9     1     3     5     6     3\n"
          ]
        }
      ],
      "source": [
        "# Function to show an image\n",
        "def imshow(img):\n",
        "    npimg = img.numpy()\n",
        "    plt.imshow(np.transpose(npimg, (1, 2, 0)))\n",
        "    #the transpose allow the image to be in the good shape for plt.imshow\n",
        "    plt.show()\n",
        "\n",
        "# Get some training images\n",
        "dataiter = iter(train_dataloader)\n",
        "images, labels = next(dataiter)\n",
        "\n",
        "# Show images\n",
        "imshow(torchvision.utils.make_grid(images))\n",
        "\n",
        "# Print labels\n",
        "print(' '.join('%5s' % labels[j].item() for j in range(8)))\n"
      ]
    },
    {
      "cell_type": "markdown",
      "metadata": {
        "id": "Ry33dEQkwM17"
      },
      "source": [
        "Create your model here. Consider looking at pytorch documentation. You can also use CNN for instance. Pretrained models are forbidden. Here is an example of a model."
      ]
    },
    {
      "cell_type": "code",
      "execution_count": 19,
      "metadata": {
        "colab": {
          "base_uri": "https://localhost:8080/"
        },
        "id": "D6Nl3_10wM17",
        "outputId": "289fb776-50a2-4fe5-dcf6-299b6d02568b"
      },
      "outputs": [
        {
          "data": {
            "text/plain": [
              "==========================================================================================\n",
              "Layer (type:depth-idx)                   Output Shape              Param #\n",
              "==========================================================================================\n",
              "ColoredNet                               [1, 10]                   --\n",
              "├─Flatten: 1-1                           [1, 2352]                 --\n",
              "├─Linear: 1-2                            [1, 128]                  301,184\n",
              "├─ReLU: 1-3                              [1, 128]                  --\n",
              "├─Dropout: 1-4                           [1, 128]                  --\n",
              "├─Linear: 1-5                            [1, 10]                   1,290\n",
              "├─ReLU: 1-6                              [1, 10]                   --\n",
              "==========================================================================================\n",
              "Total params: 302,474\n",
              "Trainable params: 302,474\n",
              "Non-trainable params: 0\n",
              "Total mult-adds (M): 0.30\n",
              "==========================================================================================\n",
              "Input size (MB): 0.01\n",
              "Forward/backward pass size (MB): 0.00\n",
              "Params size (MB): 1.21\n",
              "Estimated Total Size (MB): 1.22\n",
              "=========================================================================================="
            ]
          },
          "execution_count": 19,
          "metadata": {},
          "output_type": "execute_result"
        }
      ],
      "source": [
        "class ColoredNet(nn.Module):\n",
        "    def __init__(self):\n",
        "        super(ColoredNet, self).__init__()\n",
        "        self.fc1 = nn.Linear(3 * 28 * 28, 128)\n",
        "        self.fc2 = nn.Linear(128, 10)\n",
        "        self.dropout = nn.Dropout(0.25)\n",
        "        self.relu = nn.ReLU()\n",
        "        self.flat = nn.Flatten()\n",
        "\n",
        "    def forward(self, x):\n",
        "        x = self.flat(x)\n",
        "        x = self.relu(self.fc1(x))\n",
        "        x = self.dropout(x)\n",
        "        x = self.relu(self.fc2(x))\n",
        "        return x\n",
        "\n",
        "net = ColoredNet()\n",
        "\n",
        "img=train_dataset[0][0]\n",
        "img=img.unsqueeze(0)  # add a batch dimension\n",
        "summary(net, input_size = img.size()) # allows you to print the main caracteristics of your model\n"
      ]
    },
    {
      "cell_type": "markdown",
      "metadata": {
        "id": "IVAPqslqwM19"
      },
      "source": [
        "Define your loss and your optimizer. Consider testing different losses."
      ]
    },
    {
      "cell_type": "code",
      "execution_count": 20,
      "metadata": {
        "id": "4HThVmB2wM19"
      },
      "outputs": [],
      "source": [
        "criterion = nn.CrossEntropyLoss()\n",
        "optimizer = optim.Adam(net.parameters(), lr=0.001) #lr is the learning rate, consider changing it. The lower it is, the slower your model learn\n"
      ]
    },
    {
      "cell_type": "markdown",
      "metadata": {
        "id": "WMTSGxmHwM19"
      },
      "source": [
        "The training loop :"
      ]
    },
    {
      "cell_type": "code",
      "execution_count": 21,
      "metadata": {
        "colab": {
          "base_uri": "https://localhost:8080/"
        },
        "id": "aSS36SbIwM19",
        "outputId": "45f91c40-f433-49cc-fc22-830f300dd116"
      },
      "outputs": [
        {
          "name": "stderr",
          "output_type": "stream",
          "text": [
            "100%|██████████| 938/938 [00:08<00:00, 108.65it/s]\n"
          ]
        },
        {
          "name": "stdout",
          "output_type": "stream",
          "text": [
            "Epoch 1, Loss: 0.09008931182739104\n"
          ]
        },
        {
          "name": "stderr",
          "output_type": "stream",
          "text": [
            "100%|██████████| 938/938 [00:08<00:00, 111.60it/s]\n"
          ]
        },
        {
          "name": "stdout",
          "output_type": "stream",
          "text": [
            "Epoch 2, Loss: 0.012303532215969281\n"
          ]
        },
        {
          "name": "stderr",
          "output_type": "stream",
          "text": [
            "100%|██████████| 938/938 [00:08<00:00, 108.87it/s]"
          ]
        },
        {
          "name": "stdout",
          "output_type": "stream",
          "text": [
            "Epoch 3, Loss: 0.007207978143528664\n"
          ]
        },
        {
          "name": "stderr",
          "output_type": "stream",
          "text": [
            "\n"
          ]
        }
      ],
      "source": [
        "num_epochs = 3\n",
        "\n",
        "device = torch.device(\"cuda\" if torch.cuda.is_available() else \"cpu\")\n",
        "net=net.to(device)\n",
        "\n",
        "for epoch in range(num_epochs):\n",
        "    running_loss = 0.0\n",
        "    for inputs, labels in tqdm(train_dataloader):\n",
        "        optimizer.zero_grad()\n",
        "        inputs = inputs.to(device)\n",
        "        labels = labels.to(device)\n",
        "        outputs = net(inputs.float())\n",
        "        loss = criterion(outputs, labels)\n",
        "        loss.backward()\n",
        "        optimizer.step()\n",
        "\n",
        "        running_loss += loss.item()\n",
        "\n",
        "    print(f\"Epoch {epoch+1}, Loss: {running_loss/len(train_dataloader)}\")\n"
      ]
    },
    {
      "cell_type": "markdown",
      "metadata": {
        "id": "_-JDT587wM19"
      },
      "source": [
        "Then you create your testset. Here, you have to create another class than the one used for the training set because of course you don't have access to the labels."
      ]
    },
    {
      "cell_type": "code",
      "execution_count": 25,
      "metadata": {
        "id": "e_9Y_-gywM19"
      },
      "outputs": [],
      "source": [
        "#change the difficulty by replacing \"easy\" by \"medium\" or \"hard\"\n",
        "loaded_test_images = load_from_gz('colored_mnist_test_images_easy.gz')\n",
        "\n",
        "class TestMNISTDataset(Dataset):\n",
        "    def __init__(self, images):\n",
        "        self.images = images\n",
        "\n",
        "    def __len__(self):\n",
        "        return len(self.images)\n",
        "\n",
        "    def __getitem__(self, idx):\n",
        "        image = self.images[idx]\n",
        "        return torch.tensor(image)\n",
        "\n",
        "# Create the new dataset\n",
        "test_dataset = TestMNISTDataset(loaded_test_images)\n",
        "\n",
        "# Create a DataLoader for the new dataset\n",
        "test_dataloader = torch.utils.data.DataLoader(test_dataset, batch_size=64, shuffle=False)"
      ]
    },
    {
      "cell_type": "markdown",
      "metadata": {
        "id": "Schy6BamwM19"
      },
      "source": [
        "Then in order to get your model's accuracy you have to create your predictions.npy file and to upload this file on CS sharing (according to the difficulty you've chosen)."
      ]
    },
    {
      "cell_type": "code",
      "execution_count": 23,
      "metadata": {
        "id": "5BrnDjp1wM19"
      },
      "outputs": [],
      "source": [
        "\n",
        "predictions=[]\n",
        "\n",
        "for img in test_dataloader :\n",
        "    img = img.to(device)\n",
        "    l=np.array(net(img.float()).tolist())\n",
        "    predicted=[]\n",
        "    for i in range(len(l)) :\n",
        "        predicted.append(np.argmax(l[i]))\n",
        "    predictions.extend(predicted)\n",
        "\n",
        "\n",
        "\n",
        "np.save('predictions.npy', predictions)"
      ]
    }
  ],
  "metadata": {
    "colab": {
      "provenance": []
    },
    "kernelspec": {
      "display_name": "Python 3",
      "language": "python",
      "name": "python3"
    },
    "language_info": {
      "codemirror_mode": {
        "name": "ipython",
        "version": 3
      },
      "file_extension": ".py",
      "mimetype": "text/x-python",
      "name": "python",
      "nbconvert_exporter": "python",
      "pygments_lexer": "ipython3",
      "version": "3.10.6"
    }
  },
  "nbformat": 4,
  "nbformat_minor": 0
}
